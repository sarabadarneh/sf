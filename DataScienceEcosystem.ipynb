{
 "cells": [
  {
   "cell_type": "markdown",
   "id": "504c8dc3-94f4-4865-9b16-46274011ce62",
   "metadata": {},
   "source": [
    "# Data Science Tools and Ecosystem"
   ]
  },
  {
   "cell_type": "markdown",
   "id": "db9f4968-446b-4262-b899-8c96bd09a9b3",
   "metadata": {},
   "source": [
    "In this notebook, Data Science Tools and Ecosystem are summarized.\n"
   ]
  },
  {
   "cell_type": "markdown",
   "id": "a1fd0366-4cbe-4c29-9205-928f91486b71",
   "metadata": {},
   "source": [
    "Some of the popular languages that Data Scientists use are:\n",
    "1. paython\n",
    "2. R\n",
    "3. Julia"
   ]
  },
  {
   "cell_type": "markdown",
   "id": "bd307494-f0a5-4635-88a4-2585b9bb3ef4",
   "metadata": {},
   "source": [
    "Some of the commonly used libraries used by Data Scientists include:\r",
    "1. TensorFlow\n",
    "2. NumPy \n",
    "3. SciPy\n"
   ]
  },
  {
   "cell_type": "markdown",
   "id": "95d47be0-a880-4869-806a-0ee2dab1b8e7",
   "metadata": {},
   "source": [
    "Data Science Tools|\n",
    "-------------------|\n",
    "weka|\n",
    "scrapy|\n",
    "pandas|"
   ]
  },
  {
   "cell_type": "markdown",
   "id": "2cd2062d-1daf-403f-9ec6-1945d99677dc",
   "metadata": {},
   "source": [
    "### Below are a few examples of evaluating arithmetic expressions in Python."
   ]
  },
  {
   "cell_type": "code",
   "execution_count": 3,
   "id": "8c4d3a1e-ff55-46bb-9c2e-6e643ec4235d",
   "metadata": {},
   "outputs": [
    {
     "data": {
      "text/plain": [
       "17"
      ]
     },
     "execution_count": 3,
     "metadata": {},
     "output_type": "execute_result"
    }
   ],
   "source": [
    "# This a simple arithmetic expression to mutiply then add integers\n",
    "(3*4)+5"
   ]
  },
  {
   "cell_type": "code",
   "execution_count": 4,
   "id": "6a9b3992-1602-442c-9b99-6c0d82040c73",
   "metadata": {},
   "outputs": [
    {
     "name": "stdout",
     "output_type": "stream",
     "text": [
      "3.3333333333333335\n"
     ]
    }
   ],
   "source": [
    "# This will convert 200 minutes to hours by diving by 60\n",
    "minutes = 200\n",
    "hours = minutes / 60\n",
    "print( hours)"
   ]
  },
  {
   "cell_type": "code",
   "execution_count": null,
   "id": "1013d75b-bbcc-47dd-b991-7c8d2c72793a",
   "metadata": {},
   "outputs": [],
   "source": [
    "**objectives :**\n",
    "* Data Science Tools.\n",
    "* Commonly used libraries used by Data Scientists.\n",
    "* popular languages that Data Scientists."
   ]
  },
  {
   "cell_type": "code",
   "execution_count": null,
   "id": "4fce5a8e-477d-4ce2-bd0a-5deed8653fea",
   "metadata": {},
   "outputs": [],
   "source": [
    "## Author \n",
    "Sara Badarneh"
   ]
  },
  {
   "cell_type": "code",
   "execution_count": null,
   "id": "38f003fb-3088-4548-bdb3-482b9951f34e",
   "metadata": {},
   "outputs": [],
   "source": []
  }
 ],
 "metadata": {
  "kernelspec": {
   "display_name": "Python 3 (ipykernel)",
   "language": "python",
   "name": "python3"
  },
  "language_info": {
   "codemirror_mode": {
    "name": "ipython",
    "version": 3
   },
   "file_extension": ".py",
   "mimetype": "text/x-python",
   "name": "python",
   "nbconvert_exporter": "python",
   "pygments_lexer": "ipython3",
   "version": "3.11.7"
  }
 },
 "nbformat": 4,
 "nbformat_minor": 5
}
